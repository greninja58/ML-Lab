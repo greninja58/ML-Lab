{
 "cells": [
  {
   "cell_type": "code",
   "execution_count": 1,
   "metadata": {
    "id": "BgZtJFYpPeCZ"
   },
   "outputs": [],
   "source": [
    "\n",
    "import numpy as np # linear algebra\n",
    "import pandas as pd # data processing, CSV file I/O (e.g. pd.read_csv)\n",
    "import matplotlib.pyplot as plt # data visualization\n",
    "import seaborn as sns # statistical data visualization\n",
    "%matplotlib inline\n",
    "\n"
   ]
  },
  {
   "cell_type": "code",
   "execution_count": 2,
   "metadata": {
    "id": "v-cuge3ePeCb"
   },
   "outputs": [],
   "source": [
    "import warnings\n",
    "\n",
    "warnings.filterwarnings('ignore')"
   ]
  },
  {
   "cell_type": "code",
   "execution_count": 3,
   "metadata": {
    "id": "3WU8xKSuPeCc"
   },
   "outputs": [],
   "source": [
    "\n",
    "\n",
    "df = pd.read_csv(\"car_evaluation.csv\", header=None)"
   ]
  },
  {
   "cell_type": "code",
   "execution_count": 4,
   "metadata": {
    "colab": {
     "base_uri": "https://localhost:8080/"
    },
    "id": "BmK9uyiQPeCc",
    "outputId": "9b83e1cf-c91b-45b1-c555-a600bbfd5afe"
   },
   "outputs": [
    {
     "data": {
      "text/plain": [
       "(1728, 7)"
      ]
     },
     "execution_count": 4,
     "metadata": {},
     "output_type": "execute_result"
    }
   ],
   "source": [
    "# view dimensions of dataset\n",
    "\n",
    "df.shape"
   ]
  },
  {
   "cell_type": "code",
   "execution_count": 5,
   "metadata": {
    "colab": {
     "base_uri": "https://localhost:8080/",
     "height": 206
    },
    "id": "MDHbSYKdPeCd",
    "outputId": "a1e2c5f1-c56f-4853-856c-e645c92606b1"
   },
   "outputs": [
    {
     "data": {
      "text/html": [
       "<div>\n",
       "<style scoped>\n",
       "    .dataframe tbody tr th:only-of-type {\n",
       "        vertical-align: middle;\n",
       "    }\n",
       "\n",
       "    .dataframe tbody tr th {\n",
       "        vertical-align: top;\n",
       "    }\n",
       "\n",
       "    .dataframe thead th {\n",
       "        text-align: right;\n",
       "    }\n",
       "</style>\n",
       "<table border=\"1\" class=\"dataframe\">\n",
       "  <thead>\n",
       "    <tr style=\"text-align: right;\">\n",
       "      <th></th>\n",
       "      <th>0</th>\n",
       "      <th>1</th>\n",
       "      <th>2</th>\n",
       "      <th>3</th>\n",
       "      <th>4</th>\n",
       "      <th>5</th>\n",
       "      <th>6</th>\n",
       "    </tr>\n",
       "  </thead>\n",
       "  <tbody>\n",
       "    <tr>\n",
       "      <th>0</th>\n",
       "      <td>vhigh</td>\n",
       "      <td>vhigh</td>\n",
       "      <td>2</td>\n",
       "      <td>2</td>\n",
       "      <td>small</td>\n",
       "      <td>low</td>\n",
       "      <td>unacc</td>\n",
       "    </tr>\n",
       "    <tr>\n",
       "      <th>1</th>\n",
       "      <td>vhigh</td>\n",
       "      <td>vhigh</td>\n",
       "      <td>2</td>\n",
       "      <td>2</td>\n",
       "      <td>small</td>\n",
       "      <td>med</td>\n",
       "      <td>unacc</td>\n",
       "    </tr>\n",
       "    <tr>\n",
       "      <th>2</th>\n",
       "      <td>vhigh</td>\n",
       "      <td>vhigh</td>\n",
       "      <td>2</td>\n",
       "      <td>2</td>\n",
       "      <td>small</td>\n",
       "      <td>high</td>\n",
       "      <td>unacc</td>\n",
       "    </tr>\n",
       "    <tr>\n",
       "      <th>3</th>\n",
       "      <td>vhigh</td>\n",
       "      <td>vhigh</td>\n",
       "      <td>2</td>\n",
       "      <td>2</td>\n",
       "      <td>med</td>\n",
       "      <td>low</td>\n",
       "      <td>unacc</td>\n",
       "    </tr>\n",
       "    <tr>\n",
       "      <th>4</th>\n",
       "      <td>vhigh</td>\n",
       "      <td>vhigh</td>\n",
       "      <td>2</td>\n",
       "      <td>2</td>\n",
       "      <td>med</td>\n",
       "      <td>med</td>\n",
       "      <td>unacc</td>\n",
       "    </tr>\n",
       "  </tbody>\n",
       "</table>\n",
       "</div>"
      ],
      "text/plain": [
       "       0      1  2  3      4     5      6\n",
       "0  vhigh  vhigh  2  2  small   low  unacc\n",
       "1  vhigh  vhigh  2  2  small   med  unacc\n",
       "2  vhigh  vhigh  2  2  small  high  unacc\n",
       "3  vhigh  vhigh  2  2    med   low  unacc\n",
       "4  vhigh  vhigh  2  2    med   med  unacc"
      ]
     },
     "execution_count": 5,
     "metadata": {},
     "output_type": "execute_result"
    }
   ],
   "source": [
    "# preview the dataset\n",
    "\n",
    "df.head()"
   ]
  },
  {
   "cell_type": "code",
   "execution_count": 6,
   "metadata": {
    "colab": {
     "base_uri": "https://localhost:8080/"
    },
    "id": "Yyk0RXHWPeCe",
    "outputId": "4521d1d6-738b-4b84-8cac-a47ba2dc9e3c"
   },
   "outputs": [
    {
     "data": {
      "text/plain": [
       "['buying', 'maint', 'doors', 'persons', 'lug_boot', 'safety', 'class']"
      ]
     },
     "execution_count": 6,
     "metadata": {},
     "output_type": "execute_result"
    }
   ],
   "source": [
    "col_names = ['buying', 'maint', 'doors', 'persons', 'lug_boot', 'safety', 'class']\n",
    "\n",
    "\n",
    "df.columns = col_names\n",
    "\n",
    "col_names"
   ]
  },
  {
   "cell_type": "code",
   "execution_count": 7,
   "metadata": {
    "colab": {
     "base_uri": "https://localhost:8080/",
     "height": 206
    },
    "id": "TJZamAX1PeCe",
    "outputId": "dd3cac5f-f61b-41fa-83f0-f51809b9362d"
   },
   "outputs": [
    {
     "data": {
      "text/html": [
       "<div>\n",
       "<style scoped>\n",
       "    .dataframe tbody tr th:only-of-type {\n",
       "        vertical-align: middle;\n",
       "    }\n",
       "\n",
       "    .dataframe tbody tr th {\n",
       "        vertical-align: top;\n",
       "    }\n",
       "\n",
       "    .dataframe thead th {\n",
       "        text-align: right;\n",
       "    }\n",
       "</style>\n",
       "<table border=\"1\" class=\"dataframe\">\n",
       "  <thead>\n",
       "    <tr style=\"text-align: right;\">\n",
       "      <th></th>\n",
       "      <th>buying</th>\n",
       "      <th>maint</th>\n",
       "      <th>doors</th>\n",
       "      <th>persons</th>\n",
       "      <th>lug_boot</th>\n",
       "      <th>safety</th>\n",
       "      <th>class</th>\n",
       "    </tr>\n",
       "  </thead>\n",
       "  <tbody>\n",
       "    <tr>\n",
       "      <th>0</th>\n",
       "      <td>vhigh</td>\n",
       "      <td>vhigh</td>\n",
       "      <td>2</td>\n",
       "      <td>2</td>\n",
       "      <td>small</td>\n",
       "      <td>low</td>\n",
       "      <td>unacc</td>\n",
       "    </tr>\n",
       "    <tr>\n",
       "      <th>1</th>\n",
       "      <td>vhigh</td>\n",
       "      <td>vhigh</td>\n",
       "      <td>2</td>\n",
       "      <td>2</td>\n",
       "      <td>small</td>\n",
       "      <td>med</td>\n",
       "      <td>unacc</td>\n",
       "    </tr>\n",
       "    <tr>\n",
       "      <th>2</th>\n",
       "      <td>vhigh</td>\n",
       "      <td>vhigh</td>\n",
       "      <td>2</td>\n",
       "      <td>2</td>\n",
       "      <td>small</td>\n",
       "      <td>high</td>\n",
       "      <td>unacc</td>\n",
       "    </tr>\n",
       "    <tr>\n",
       "      <th>3</th>\n",
       "      <td>vhigh</td>\n",
       "      <td>vhigh</td>\n",
       "      <td>2</td>\n",
       "      <td>2</td>\n",
       "      <td>med</td>\n",
       "      <td>low</td>\n",
       "      <td>unacc</td>\n",
       "    </tr>\n",
       "    <tr>\n",
       "      <th>4</th>\n",
       "      <td>vhigh</td>\n",
       "      <td>vhigh</td>\n",
       "      <td>2</td>\n",
       "      <td>2</td>\n",
       "      <td>med</td>\n",
       "      <td>med</td>\n",
       "      <td>unacc</td>\n",
       "    </tr>\n",
       "  </tbody>\n",
       "</table>\n",
       "</div>"
      ],
      "text/plain": [
       "  buying  maint doors persons lug_boot safety  class\n",
       "0  vhigh  vhigh     2       2    small    low  unacc\n",
       "1  vhigh  vhigh     2       2    small    med  unacc\n",
       "2  vhigh  vhigh     2       2    small   high  unacc\n",
       "3  vhigh  vhigh     2       2      med    low  unacc\n",
       "4  vhigh  vhigh     2       2      med    med  unacc"
      ]
     },
     "execution_count": 7,
     "metadata": {},
     "output_type": "execute_result"
    }
   ],
   "source": [
    "# let's again preview the dataset\n",
    "\n",
    "df.head()"
   ]
  },
  {
   "cell_type": "code",
   "execution_count": 8,
   "metadata": {
    "colab": {
     "base_uri": "https://localhost:8080/"
    },
    "id": "zGl3cRsLPeCf",
    "outputId": "94fe52a2-ef75-46b0-b483-61c984373f70"
   },
   "outputs": [
    {
     "name": "stdout",
     "output_type": "stream",
     "text": [
      "<class 'pandas.core.frame.DataFrame'>\n",
      "RangeIndex: 1728 entries, 0 to 1727\n",
      "Data columns (total 7 columns):\n",
      " #   Column    Non-Null Count  Dtype \n",
      "---  ------    --------------  ----- \n",
      " 0   buying    1728 non-null   object\n",
      " 1   maint     1728 non-null   object\n",
      " 2   doors     1728 non-null   object\n",
      " 3   persons   1728 non-null   object\n",
      " 4   lug_boot  1728 non-null   object\n",
      " 5   safety    1728 non-null   object\n",
      " 6   class     1728 non-null   object\n",
      "dtypes: object(7)\n",
      "memory usage: 94.6+ KB\n"
     ]
    }
   ],
   "source": [
    "df.info()"
   ]
  },
  {
   "cell_type": "code",
   "execution_count": 9,
   "metadata": {
    "colab": {
     "base_uri": "https://localhost:8080/"
    },
    "id": "F3s4nj55PeCg",
    "outputId": "4cc8c2c6-c1ad-4555-9430-da435a30f91b"
   },
   "outputs": [
    {
     "name": "stdout",
     "output_type": "stream",
     "text": [
      "buying\n",
      "vhigh    432\n",
      "high     432\n",
      "med      432\n",
      "low      432\n",
      "Name: count, dtype: int64\n",
      "maint\n",
      "vhigh    432\n",
      "high     432\n",
      "med      432\n",
      "low      432\n",
      "Name: count, dtype: int64\n",
      "doors\n",
      "2        432\n",
      "3        432\n",
      "4        432\n",
      "5more    432\n",
      "Name: count, dtype: int64\n",
      "persons\n",
      "2       576\n",
      "4       576\n",
      "more    576\n",
      "Name: count, dtype: int64\n",
      "lug_boot\n",
      "small    576\n",
      "med      576\n",
      "big      576\n",
      "Name: count, dtype: int64\n",
      "safety\n",
      "low     576\n",
      "med     576\n",
      "high    576\n",
      "Name: count, dtype: int64\n",
      "class\n",
      "unacc    1210\n",
      "acc       384\n",
      "good       69\n",
      "vgood      65\n",
      "Name: count, dtype: int64\n"
     ]
    }
   ],
   "source": [
    "col_names = ['buying', 'maint', 'doors', 'persons', 'lug_boot', 'safety', 'class']\n",
    "\n",
    "\n",
    "for col in col_names:\n",
    "\n",
    "    print(df[col].value_counts())\n"
   ]
  },
  {
   "cell_type": "code",
   "execution_count": 10,
   "metadata": {
    "colab": {
     "base_uri": "https://localhost:8080/"
    },
    "id": "wTecXYAFPeCh",
    "outputId": "273fc33f-aeff-408b-fe66-788e3d31eeb6"
   },
   "outputs": [
    {
     "data": {
      "text/plain": [
       "class\n",
       "unacc    1210\n",
       "acc       384\n",
       "good       69\n",
       "vgood      65\n",
       "Name: count, dtype: int64"
      ]
     },
     "execution_count": 10,
     "metadata": {},
     "output_type": "execute_result"
    }
   ],
   "source": [
    "df['class'].value_counts()"
   ]
  },
  {
   "cell_type": "code",
   "execution_count": 11,
   "metadata": {
    "colab": {
     "base_uri": "https://localhost:8080/"
    },
    "id": "zn4a4KaqPeCt",
    "outputId": "b801dd17-b709-468b-a631-3ddcb2976905"
   },
   "outputs": [
    {
     "data": {
      "text/plain": [
       "buying      0\n",
       "maint       0\n",
       "doors       0\n",
       "persons     0\n",
       "lug_boot    0\n",
       "safety      0\n",
       "class       0\n",
       "dtype: int64"
      ]
     },
     "execution_count": 11,
     "metadata": {},
     "output_type": "execute_result"
    }
   ],
   "source": [
    "# check missing values in variables\n",
    "\n",
    "df.isnull().sum()"
   ]
  },
  {
   "cell_type": "code",
   "execution_count": 12,
   "metadata": {
    "id": "5oA4RXwlPeCu"
   },
   "outputs": [],
   "source": [
    "X = df.drop(['class'], axis=1)\n",
    "\n",
    "y = df['class']"
   ]
  },
  {
   "cell_type": "code",
   "execution_count": 13,
   "metadata": {
    "id": "HMLeB39wPeCu"
   },
   "outputs": [],
   "source": [
    "# split X and y into training and testing sets\n",
    "\n",
    "from sklearn.model_selection import train_test_split\n",
    "\n",
    "X_train, X_test, y_train, y_test = train_test_split(X, y, test_size = 0.30, random_state = 42)\n"
   ]
  },
  {
   "cell_type": "code",
   "execution_count": 14,
   "metadata": {
    "colab": {
     "base_uri": "https://localhost:8080/"
    },
    "id": "gyYp7CGsPeCv",
    "outputId": "1c967bc7-ffa8-4884-8f98-4a98706da1c1"
   },
   "outputs": [
    {
     "data": {
      "text/plain": [
       "((1209, 6), (519, 6))"
      ]
     },
     "execution_count": 14,
     "metadata": {},
     "output_type": "execute_result"
    }
   ],
   "source": [
    "# check the shape of X_train and X_test\n",
    "\n",
    "X_train.shape, X_test.shape"
   ]
  },
  {
   "cell_type": "code",
   "execution_count": 15,
   "metadata": {
    "colab": {
     "base_uri": "https://localhost:8080/"
    },
    "id": "0Ea4ZracPeCw",
    "outputId": "9cdaac5d-30a8-4e63-abbe-16f2c896cf20"
   },
   "outputs": [
    {
     "data": {
      "text/plain": [
       "buying      object\n",
       "maint       object\n",
       "doors       object\n",
       "persons     object\n",
       "lug_boot    object\n",
       "safety      object\n",
       "dtype: object"
      ]
     },
     "execution_count": 15,
     "metadata": {},
     "output_type": "execute_result"
    }
   ],
   "source": [
    "# check data types in X_train\n",
    "\n",
    "X_train.dtypes"
   ]
  },
  {
   "cell_type": "code",
   "execution_count": 16,
   "metadata": {
    "colab": {
     "base_uri": "https://localhost:8080/",
     "height": 206
    },
    "id": "o-ZricoqPeCx",
    "outputId": "91e77015-16ad-41c9-9db0-399c135a7e09"
   },
   "outputs": [
    {
     "data": {
      "text/html": [
       "<div>\n",
       "<style scoped>\n",
       "    .dataframe tbody tr th:only-of-type {\n",
       "        vertical-align: middle;\n",
       "    }\n",
       "\n",
       "    .dataframe tbody tr th {\n",
       "        vertical-align: top;\n",
       "    }\n",
       "\n",
       "    .dataframe thead th {\n",
       "        text-align: right;\n",
       "    }\n",
       "</style>\n",
       "<table border=\"1\" class=\"dataframe\">\n",
       "  <thead>\n",
       "    <tr style=\"text-align: right;\">\n",
       "      <th></th>\n",
       "      <th>buying</th>\n",
       "      <th>maint</th>\n",
       "      <th>doors</th>\n",
       "      <th>persons</th>\n",
       "      <th>lug_boot</th>\n",
       "      <th>safety</th>\n",
       "    </tr>\n",
       "  </thead>\n",
       "  <tbody>\n",
       "    <tr>\n",
       "      <th>1178</th>\n",
       "      <td>med</td>\n",
       "      <td>med</td>\n",
       "      <td>5more</td>\n",
       "      <td>4</td>\n",
       "      <td>big</td>\n",
       "      <td>high</td>\n",
       "    </tr>\n",
       "    <tr>\n",
       "      <th>585</th>\n",
       "      <td>high</td>\n",
       "      <td>high</td>\n",
       "      <td>3</td>\n",
       "      <td>more</td>\n",
       "      <td>small</td>\n",
       "      <td>low</td>\n",
       "    </tr>\n",
       "    <tr>\n",
       "      <th>1552</th>\n",
       "      <td>low</td>\n",
       "      <td>med</td>\n",
       "      <td>3</td>\n",
       "      <td>4</td>\n",
       "      <td>med</td>\n",
       "      <td>med</td>\n",
       "    </tr>\n",
       "    <tr>\n",
       "      <th>1169</th>\n",
       "      <td>med</td>\n",
       "      <td>med</td>\n",
       "      <td>5more</td>\n",
       "      <td>2</td>\n",
       "      <td>big</td>\n",
       "      <td>high</td>\n",
       "    </tr>\n",
       "    <tr>\n",
       "      <th>1033</th>\n",
       "      <td>med</td>\n",
       "      <td>high</td>\n",
       "      <td>4</td>\n",
       "      <td>2</td>\n",
       "      <td>big</td>\n",
       "      <td>med</td>\n",
       "    </tr>\n",
       "  </tbody>\n",
       "</table>\n",
       "</div>"
      ],
      "text/plain": [
       "     buying maint  doors persons lug_boot safety\n",
       "1178    med   med  5more       4      big   high\n",
       "585    high  high      3    more    small    low\n",
       "1552    low   med      3       4      med    med\n",
       "1169    med   med  5more       2      big   high\n",
       "1033    med  high      4       2      big    med"
      ]
     },
     "execution_count": 16,
     "metadata": {},
     "output_type": "execute_result"
    }
   ],
   "source": [
    "X_train.head()"
   ]
  },
  {
   "cell_type": "code",
   "execution_count": 17,
   "metadata": {
    "id": "V8GInnepRQiN"
   },
   "outputs": [
    {
     "name": "stdout",
     "output_type": "stream",
     "text": [
      "Defaulting to user installation because normal site-packages is not writeable\n",
      "Collecting category_encoders\n",
      "  Downloading category_encoders-2.6.3-py2.py3-none-any.whl.metadata (8.0 kB)\n",
      "Collecting numpy>=1.14.0 (from category_encoders)\n",
      "  Downloading numpy-1.26.4-cp312-cp312-win_amd64.whl.metadata (61 kB)\n",
      "     ---------------------------------------- 0.0/61.0 kB ? eta -:--:--\n",
      "     ---------------------------------------- 0.0/61.0 kB ? eta -:--:--\n",
      "     ---------------------------------------- 0.0/61.0 kB ? eta -:--:--\n",
      "     ------ --------------------------------- 10.2/61.0 kB ? eta -:--:--\n",
      "     ------------------- ------------------ 30.7/61.0 kB 325.1 kB/s eta 0:00:01\n",
      "     ------------------------------- ------ 51.2/61.0 kB 327.7 kB/s eta 0:00:01\n",
      "     -------------------------------------- 61.0/61.0 kB 360.3 kB/s eta 0:00:00\n",
      "Collecting scikit-learn>=0.20.0 (from category_encoders)\n",
      "  Downloading scikit_learn-1.4.1.post1-cp312-cp312-win_amd64.whl.metadata (11 kB)\n",
      "Collecting scipy>=1.0.0 (from category_encoders)\n",
      "  Downloading scipy-1.12.0-cp312-cp312-win_amd64.whl.metadata (60 kB)\n",
      "     ---------------------------------------- 0.0/60.4 kB ? eta -:--:--\n",
      "     --------------------------------- ------ 51.2/60.4 kB 1.3 MB/s eta 0:00:01\n",
      "     ---------------------------------------- 60.4/60.4 kB 1.1 MB/s eta 0:00:00\n",
      "Collecting statsmodels>=0.9.0 (from category_encoders)\n",
      "  Downloading statsmodels-0.14.1-cp312-cp312-win_amd64.whl.metadata (9.8 kB)\n",
      "Collecting pandas>=1.0.5 (from category_encoders)\n",
      "  Downloading pandas-2.2.1-cp312-cp312-win_amd64.whl.metadata (19 kB)\n",
      "Collecting patsy>=0.5.1 (from category_encoders)\n",
      "  Downloading patsy-0.5.6-py2.py3-none-any.whl.metadata (3.5 kB)\n",
      "Requirement already satisfied: python-dateutil>=2.8.2 in c:\\users\\devendra\\appdata\\local\\packages\\pythonsoftwarefoundation.python.3.12_qbz5n2kfra8p0\\localcache\\local-packages\\python312\\site-packages (from pandas>=1.0.5->category_encoders) (2.8.2)\n",
      "Collecting pytz>=2020.1 (from pandas>=1.0.5->category_encoders)\n",
      "  Downloading pytz-2024.1-py2.py3-none-any.whl.metadata (22 kB)\n",
      "Collecting tzdata>=2022.7 (from pandas>=1.0.5->category_encoders)\n",
      "  Downloading tzdata-2024.1-py2.py3-none-any.whl.metadata (1.4 kB)\n",
      "Requirement already satisfied: six in c:\\users\\devendra\\appdata\\local\\packages\\pythonsoftwarefoundation.python.3.12_qbz5n2kfra8p0\\localcache\\local-packages\\python312\\site-packages (from patsy>=0.5.1->category_encoders) (1.16.0)\n",
      "Collecting joblib>=1.2.0 (from scikit-learn>=0.20.0->category_encoders)\n",
      "  Downloading joblib-1.3.2-py3-none-any.whl.metadata (5.4 kB)\n",
      "Collecting threadpoolctl>=2.0.0 (from scikit-learn>=0.20.0->category_encoders)\n",
      "  Downloading threadpoolctl-3.3.0-py3-none-any.whl.metadata (13 kB)\n",
      "Requirement already satisfied: packaging>=21.3 in c:\\users\\devendra\\appdata\\local\\packages\\pythonsoftwarefoundation.python.3.12_qbz5n2kfra8p0\\localcache\\local-packages\\python312\\site-packages (from statsmodels>=0.9.0->category_encoders) (23.2)\n",
      "Downloading category_encoders-2.6.3-py2.py3-none-any.whl (81 kB)\n",
      "   ---------------------------------------- 0.0/81.9 kB ? eta -:--:--\n",
      "   ---------------------------------------- 81.9/81.9 kB ? eta 0:00:00\n",
      "Downloading numpy-1.26.4-cp312-cp312-win_amd64.whl (15.5 MB)\n",
      "   ---------------------------------------- 0.0/15.5 MB ? eta -:--:--\n",
      "   ---------------------------------------- 0.1/15.5 MB 3.8 MB/s eta 0:00:05\n",
      "    --------------------------------------- 0.2/15.5 MB 3.1 MB/s eta 0:00:05\n",
      "    --------------------------------------- 0.3/15.5 MB 2.8 MB/s eta 0:00:06\n",
      "   - -------------------------------------- 0.4/15.5 MB 3.1 MB/s eta 0:00:05\n",
      "   - -------------------------------------- 0.5/15.5 MB 2.8 MB/s eta 0:00:06\n",
      "   - -------------------------------------- 0.6/15.5 MB 2.3 MB/s eta 0:00:07\n",
      "   - -------------------------------------- 0.7/15.5 MB 2.7 MB/s eta 0:00:06\n",
      "   -- ------------------------------------- 0.8/15.5 MB 2.5 MB/s eta 0:00:06\n",
      "   -- ------------------------------------- 0.9/15.5 MB 2.5 MB/s eta 0:00:06\n",
      "   -- ------------------------------------- 1.0/15.5 MB 2.5 MB/s eta 0:00:06\n",
      "   --- ------------------------------------ 1.2/15.5 MB 2.6 MB/s eta 0:00:06\n",
      "   --- ------------------------------------ 1.2/15.5 MB 2.6 MB/s eta 0:00:06\n",
      "   --- ------------------------------------ 1.4/15.5 MB 2.6 MB/s eta 0:00:06\n",
      "   --- ------------------------------------ 1.5/15.5 MB 2.5 MB/s eta 0:00:06\n",
      "   ---- ----------------------------------- 1.7/15.5 MB 2.7 MB/s eta 0:00:06\n",
      "   ---- ----------------------------------- 1.9/15.5 MB 2.8 MB/s eta 0:00:05\n",
      "   ----- ---------------------------------- 2.2/15.5 MB 3.0 MB/s eta 0:00:05\n",
      "   ------ --------------------------------- 2.4/15.5 MB 3.2 MB/s eta 0:00:05\n",
      "   ------ --------------------------------- 2.7/15.5 MB 3.3 MB/s eta 0:00:04\n",
      "   ------- -------------------------------- 2.9/15.5 MB 3.4 MB/s eta 0:00:04\n",
      "   ------- -------------------------------- 2.9/15.5 MB 3.4 MB/s eta 0:00:04\n",
      "   ------- -------------------------------- 3.1/15.5 MB 3.3 MB/s eta 0:00:04\n",
      "   -------- ------------------------------- 3.2/15.5 MB 3.3 MB/s eta 0:00:04\n",
      "   -------- ------------------------------- 3.4/15.5 MB 3.3 MB/s eta 0:00:04\n",
      "   --------- ------------------------------ 3.6/15.5 MB 3.4 MB/s eta 0:00:04\n",
      "   --------- ------------------------------ 3.7/15.5 MB 3.3 MB/s eta 0:00:04\n",
      "   --------- ------------------------------ 3.8/15.5 MB 3.3 MB/s eta 0:00:04\n",
      "   --------- ------------------------------ 3.8/15.5 MB 3.2 MB/s eta 0:00:04\n",
      "   --------- ------------------------------ 3.8/15.5 MB 3.1 MB/s eta 0:00:04\n",
      "   ---------- ----------------------------- 4.2/15.5 MB 3.3 MB/s eta 0:00:04\n",
      "   ---------- ----------------------------- 4.2/15.5 MB 3.2 MB/s eta 0:00:04\n",
      "   ---------- ----------------------------- 4.3/15.5 MB 3.2 MB/s eta 0:00:04\n",
      "   ----------- ---------------------------- 4.3/15.5 MB 3.1 MB/s eta 0:00:04\n",
      "   ----------- ---------------------------- 4.3/15.5 MB 3.0 MB/s eta 0:00:04\n",
      "   ------------ --------------------------- 4.7/15.5 MB 3.2 MB/s eta 0:00:04\n",
      "   ------------ --------------------------- 4.7/15.5 MB 3.1 MB/s eta 0:00:04\n",
      "   ------------ --------------------------- 4.8/15.5 MB 3.0 MB/s eta 0:00:04\n",
      "   ------------ --------------------------- 4.8/15.5 MB 3.0 MB/s eta 0:00:04\n",
      "   ------------ --------------------------- 4.8/15.5 MB 2.9 MB/s eta 0:00:04\n",
      "   ------------- -------------------------- 5.2/15.5 MB 3.1 MB/s eta 0:00:04\n",
      "   ------------- -------------------------- 5.3/15.5 MB 3.0 MB/s eta 0:00:04\n",
      "   -------------- ------------------------- 5.6/15.5 MB 3.1 MB/s eta 0:00:04\n",
      "   --------------- ------------------------ 6.1/15.5 MB 3.3 MB/s eta 0:00:03\n",
      "   ---------------- ----------------------- 6.3/15.5 MB 3.3 MB/s eta 0:00:03\n",
      "   ----------------- ---------------------- 6.7/15.5 MB 3.5 MB/s eta 0:00:03\n",
      "   ------------------ --------------------- 7.1/15.5 MB 3.6 MB/s eta 0:00:03\n",
      "   ------------------- -------------------- 7.5/15.5 MB 3.7 MB/s eta 0:00:03\n",
      "   -------------------- ------------------- 8.0/15.5 MB 3.9 MB/s eta 0:00:02\n",
      "   --------------------- ------------------ 8.5/15.5 MB 4.0 MB/s eta 0:00:02\n",
      "   ---------------------- ----------------- 8.6/15.5 MB 4.0 MB/s eta 0:00:02\n",
      "   ----------------------- ---------------- 9.1/15.5 MB 4.1 MB/s eta 0:00:02\n",
      "   ------------------------ --------------- 9.6/15.5 MB 4.3 MB/s eta 0:00:02\n",
      "   ------------------------- -------------- 10.0/15.5 MB 4.4 MB/s eta 0:00:02\n",
      "   --------------------------- ------------ 10.5/15.5 MB 4.6 MB/s eta 0:00:02\n",
      "   ---------------------------- ----------- 11.0/15.5 MB 5.0 MB/s eta 0:00:01\n",
      "   ----------------------------- ---------- 11.4/15.5 MB 5.4 MB/s eta 0:00:01\n",
      "   ------------------------------ --------- 11.8/15.5 MB 5.5 MB/s eta 0:00:01\n",
      "   ------------------------------- -------- 12.3/15.5 MB 5.6 MB/s eta 0:00:01\n",
      "   -------------------------------- ------- 12.8/15.5 MB 5.8 MB/s eta 0:00:01\n",
      "   --------------------------------- ------ 13.2/15.5 MB 6.2 MB/s eta 0:00:01\n",
      "   ----------------------------------- ---- 13.7/15.5 MB 6.5 MB/s eta 0:00:01\n",
      "   ------------------------------------ --- 14.1/15.5 MB 7.1 MB/s eta 0:00:01\n",
      "   ------------------------------------- -- 14.5/15.5 MB 7.7 MB/s eta 0:00:01\n",
      "   -------------------------------------- - 14.7/15.5 MB 7.9 MB/s eta 0:00:01\n",
      "   -------------------------------------- - 15.1/15.5 MB 9.0 MB/s eta 0:00:01\n",
      "   ---------------------------------------  15.3/15.5 MB 9.0 MB/s eta 0:00:01\n",
      "   ---------------------------------------  15.4/15.5 MB 8.6 MB/s eta 0:00:01\n",
      "   ---------------------------------------  15.5/15.5 MB 8.8 MB/s eta 0:00:01\n",
      "   ---------------------------------------  15.5/15.5 MB 8.8 MB/s eta 0:00:01\n",
      "   ---------------------------------------- 15.5/15.5 MB 8.4 MB/s eta 0:00:00\n",
      "Downloading pandas-2.2.1-cp312-cp312-win_amd64.whl (11.5 MB)\n",
      "   ---------------------------------------- 0.0/11.5 MB ? eta -:--:--\n",
      "    --------------------------------------- 0.2/11.5 MB 5.9 MB/s eta 0:00:02\n",
      "   - -------------------------------------- 0.4/11.5 MB 6.2 MB/s eta 0:00:02\n",
      "   -- ------------------------------------- 0.7/11.5 MB 5.9 MB/s eta 0:00:02\n",
      "   --- ------------------------------------ 1.0/11.5 MB 6.5 MB/s eta 0:00:02\n",
      "   ---- ----------------------------------- 1.2/11.5 MB 6.0 MB/s eta 0:00:02\n",
      "   ---- ----------------------------------- 1.4/11.5 MB 6.0 MB/s eta 0:00:02\n",
      "   ----- ---------------------------------- 1.6/11.5 MB 5.8 MB/s eta 0:00:02\n",
      "   ------ --------------------------------- 1.9/11.5 MB 5.7 MB/s eta 0:00:02\n",
      "   ------- -------------------------------- 2.1/11.5 MB 5.6 MB/s eta 0:00:02\n",
      "   -------- ------------------------------- 2.5/11.5 MB 6.1 MB/s eta 0:00:02\n",
      "   --------- ------------------------------ 2.8/11.5 MB 6.1 MB/s eta 0:00:02\n",
      "   ----------- ---------------------------- 3.2/11.5 MB 6.4 MB/s eta 0:00:02\n",
      "   ------------ --------------------------- 3.6/11.5 MB 6.6 MB/s eta 0:00:02\n",
      "   -------------- ------------------------- 4.1/11.5 MB 6.9 MB/s eta 0:00:02\n",
      "   --------------- ------------------------ 4.5/11.5 MB 7.1 MB/s eta 0:00:01\n",
      "   ---------------- ----------------------- 4.8/11.5 MB 7.1 MB/s eta 0:00:01\n",
      "   ----------------- ---------------------- 5.1/11.5 MB 7.1 MB/s eta 0:00:01\n",
      "   ------------------- -------------------- 5.6/11.5 MB 7.3 MB/s eta 0:00:01\n",
      "   --------------------- ------------------ 6.1/11.5 MB 7.5 MB/s eta 0:00:01\n",
      "   ---------------------- ----------------- 6.5/11.5 MB 7.7 MB/s eta 0:00:01\n",
      "   ------------------------ --------------- 6.9/11.5 MB 7.7 MB/s eta 0:00:01\n",
      "   ------------------------- -------------- 7.3/11.5 MB 7.7 MB/s eta 0:00:01\n",
      "   -------------------------- ------------- 7.6/11.5 MB 7.9 MB/s eta 0:00:01\n",
      "   ---------------------------- ----------- 8.1/11.5 MB 7.9 MB/s eta 0:00:01\n",
      "   ----------------------------- ---------- 8.6/11.5 MB 8.1 MB/s eta 0:00:01\n",
      "   ------------------------------- -------- 8.9/11.5 MB 8.1 MB/s eta 0:00:01\n",
      "   -------------------------------- ------- 9.4/11.5 MB 8.2 MB/s eta 0:00:01\n",
      "   ---------------------------------- ----- 9.9/11.5 MB 8.3 MB/s eta 0:00:01\n",
      "   ------------------------------------ --- 10.4/11.5 MB 8.4 MB/s eta 0:00:01\n",
      "   ------------------------------------- -- 10.8/11.5 MB 8.8 MB/s eta 0:00:01\n",
      "   ---------------------------------------  11.3/11.5 MB 9.0 MB/s eta 0:00:01\n",
      "   ---------------------------------------  11.5/11.5 MB 9.1 MB/s eta 0:00:01\n",
      "   ---------------------------------------- 11.5/11.5 MB 8.7 MB/s eta 0:00:00\n",
      "Downloading patsy-0.5.6-py2.py3-none-any.whl (233 kB)\n",
      "   ---------------------------------------- 0.0/233.9 kB ? eta -:--:--\n",
      "   ---------------------------------------- 233.9/233.9 kB 7.2 MB/s eta 0:00:00\n",
      "Downloading scikit_learn-1.4.1.post1-cp312-cp312-win_amd64.whl (10.6 MB)\n",
      "   ---------------------------------------- 0.0/10.6 MB ? eta -:--:--\n",
      "   - -------------------------------------- 0.5/10.6 MB 14.5 MB/s eta 0:00:01\n",
      "   -- ------------------------------------- 0.7/10.6 MB 11.4 MB/s eta 0:00:01\n",
      "   ---- ----------------------------------- 1.2/10.6 MB 9.8 MB/s eta 0:00:01\n",
      "   ------ --------------------------------- 1.8/10.6 MB 11.2 MB/s eta 0:00:01\n",
      "   -------- ------------------------------- 2.2/10.6 MB 10.7 MB/s eta 0:00:01\n",
      "   --------- ------------------------------ 2.6/10.6 MB 10.9 MB/s eta 0:00:01\n",
      "   ----------- ---------------------------- 3.0/10.6 MB 10.8 MB/s eta 0:00:01\n",
      "   ------------- -------------------------- 3.5/10.6 MB 10.7 MB/s eta 0:00:01\n",
      "   ------------- -------------------------- 3.7/10.6 MB 10.2 MB/s eta 0:00:01\n",
      "   --------------- ------------------------ 4.1/10.6 MB 10.2 MB/s eta 0:00:01\n",
      "   ----------------- ---------------------- 4.7/10.6 MB 10.4 MB/s eta 0:00:01\n",
      "   ------------------- -------------------- 5.1/10.6 MB 10.5 MB/s eta 0:00:01\n",
      "   -------------------- ------------------- 5.5/10.6 MB 10.3 MB/s eta 0:00:01\n",
      "   ---------------------- ----------------- 5.9/10.6 MB 10.3 MB/s eta 0:00:01\n",
      "   ----------------------- ---------------- 6.3/10.6 MB 10.4 MB/s eta 0:00:01\n",
      "   ------------------------- -------------- 6.8/10.6 MB 10.3 MB/s eta 0:00:01\n",
      "   -------------------------- ------------- 7.1/10.6 MB 10.3 MB/s eta 0:00:01\n",
      "   ---------------------------- ----------- 7.5/10.6 MB 10.3 MB/s eta 0:00:01\n",
      "   ------------------------------ --------- 8.0/10.6 MB 10.3 MB/s eta 0:00:01\n",
      "   ------------------------------- -------- 8.3/10.6 MB 10.0 MB/s eta 0:00:01\n",
      "   --------------------------------- ------ 8.8/10.6 MB 10.1 MB/s eta 0:00:01\n",
      "   ---------------------------------- ----- 9.1/10.6 MB 10.0 MB/s eta 0:00:01\n",
      "   ------------------------------------ --- 9.5/10.6 MB 10.0 MB/s eta 0:00:01\n",
      "   ------------------------------------- -- 9.9/10.6 MB 9.9 MB/s eta 0:00:01\n",
      "   -------------------------------------- - 10.3/10.6 MB 9.8 MB/s eta 0:00:01\n",
      "   ---------------------------------------  10.6/10.6 MB 9.8 MB/s eta 0:00:01\n",
      "   ---------------------------------------- 10.6/10.6 MB 9.5 MB/s eta 0:00:00\n",
      "Downloading scipy-1.12.0-cp312-cp312-win_amd64.whl (45.8 MB)\n",
      "   ---------------------------------------- 0.0/45.8 MB ? eta -:--:--\n",
      "   ---------------------------------------- 0.3/45.8 MB 8.0 MB/s eta 0:00:06\n",
      "    --------------------------------------- 0.8/45.8 MB 9.9 MB/s eta 0:00:05\n",
      "   - -------------------------------------- 1.1/45.8 MB 9.1 MB/s eta 0:00:05\n",
      "   - -------------------------------------- 1.7/45.8 MB 9.9 MB/s eta 0:00:05\n",
      "   - -------------------------------------- 2.2/45.8 MB 10.6 MB/s eta 0:00:05\n",
      "   -- ------------------------------------- 2.6/45.8 MB 10.3 MB/s eta 0:00:05\n",
      "   -- ------------------------------------- 2.8/45.8 MB 10.0 MB/s eta 0:00:05\n",
      "   -- ------------------------------------- 3.3/45.8 MB 9.9 MB/s eta 0:00:05\n",
      "   --- ------------------------------------ 3.6/45.8 MB 9.6 MB/s eta 0:00:05\n",
      "   --- ------------------------------------ 4.0/45.8 MB 9.7 MB/s eta 0:00:05\n",
      "   --- ------------------------------------ 4.5/45.8 MB 9.6 MB/s eta 0:00:05\n",
      "   ---- ----------------------------------- 4.8/45.8 MB 9.5 MB/s eta 0:00:05\n",
      "   ---- ----------------------------------- 5.3/45.8 MB 9.7 MB/s eta 0:00:05\n",
      "   ---- ----------------------------------- 5.4/45.8 MB 9.1 MB/s eta 0:00:05\n",
      "   ---- ----------------------------------- 5.6/45.8 MB 8.9 MB/s eta 0:00:05\n",
      "   ----- ---------------------------------- 6.1/45.8 MB 9.0 MB/s eta 0:00:05\n",
      "   ----- ---------------------------------- 6.4/45.8 MB 8.8 MB/s eta 0:00:05\n",
      "   ----- ---------------------------------- 6.8/45.8 MB 9.0 MB/s eta 0:00:05\n",
      "   ------ --------------------------------- 7.3/45.8 MB 9.1 MB/s eta 0:00:05\n",
      "   ------ --------------------------------- 7.8/45.8 MB 9.2 MB/s eta 0:00:05\n",
      "   ------- -------------------------------- 8.1/45.8 MB 9.1 MB/s eta 0:00:05\n",
      "   ------- -------------------------------- 8.7/45.8 MB 9.2 MB/s eta 0:00:05\n",
      "   ------- -------------------------------- 9.1/45.8 MB 9.4 MB/s eta 0:00:04\n",
      "   -------- ------------------------------- 9.6/45.8 MB 9.3 MB/s eta 0:00:04\n",
      "   -------- ------------------------------- 10.0/45.8 MB 9.4 MB/s eta 0:00:04\n",
      "   --------- ------------------------------ 10.5/45.8 MB 9.5 MB/s eta 0:00:04\n",
      "   --------- ------------------------------ 11.0/45.8 MB 9.6 MB/s eta 0:00:04\n",
      "   --------- ------------------------------ 11.3/45.8 MB 9.4 MB/s eta 0:00:04\n",
      "   ---------- ----------------------------- 11.8/45.8 MB 9.2 MB/s eta 0:00:04\n",
      "   ---------- ----------------------------- 12.0/45.8 MB 9.2 MB/s eta 0:00:04\n",
      "   ---------- ----------------------------- 12.3/45.8 MB 9.1 MB/s eta 0:00:04\n",
      "   ----------- ---------------------------- 12.8/45.8 MB 9.1 MB/s eta 0:00:04\n",
      "   ----------- ---------------------------- 13.1/45.8 MB 9.1 MB/s eta 0:00:04\n",
      "   ----------- ---------------------------- 13.5/45.8 MB 9.1 MB/s eta 0:00:04\n",
      "   ------------ --------------------------- 13.9/45.8 MB 9.2 MB/s eta 0:00:04\n",
      "   ------------ --------------------------- 14.4/45.8 MB 9.2 MB/s eta 0:00:04\n",
      "   ------------ --------------------------- 14.8/45.8 MB 9.2 MB/s eta 0:00:04\n",
      "   ------------- -------------------------- 15.1/45.8 MB 9.2 MB/s eta 0:00:04\n",
      "   ------------- -------------------------- 15.7/45.8 MB 9.4 MB/s eta 0:00:04\n",
      "   -------------- ------------------------- 16.2/45.8 MB 9.5 MB/s eta 0:00:04\n",
      "   -------------- ------------------------- 16.5/45.8 MB 9.6 MB/s eta 0:00:04\n",
      "   -------------- ------------------------- 16.5/45.8 MB 9.6 MB/s eta 0:00:04\n",
      "   -------------- ------------------------- 16.9/45.8 MB 9.2 MB/s eta 0:00:04\n",
      "   -------------- ------------------------- 17.0/45.8 MB 9.2 MB/s eta 0:00:04\n",
      "   -------------- ------------------------- 17.2/45.8 MB 8.6 MB/s eta 0:00:04\n",
      "   --------------- ------------------------ 17.4/45.8 MB 8.5 MB/s eta 0:00:04\n",
      "   --------------- ------------------------ 17.7/45.8 MB 8.4 MB/s eta 0:00:04\n",
      "   --------------- ------------------------ 18.1/45.8 MB 8.3 MB/s eta 0:00:04\n",
      "   ---------------- ----------------------- 18.4/45.8 MB 8.3 MB/s eta 0:00:04\n",
      "   ---------------- ----------------------- 18.7/45.8 MB 8.2 MB/s eta 0:00:04\n",
      "   ---------------- ----------------------- 18.9/45.8 MB 8.1 MB/s eta 0:00:04\n",
      "   ---------------- ----------------------- 19.3/45.8 MB 8.0 MB/s eta 0:00:04\n",
      "   ----------------- ---------------------- 19.6/45.8 MB 7.9 MB/s eta 0:00:04\n",
      "   ----------------- ---------------------- 20.0/45.8 MB 7.9 MB/s eta 0:00:04\n",
      "   ----------------- ---------------------- 20.2/45.8 MB 7.8 MB/s eta 0:00:04\n",
      "   ----------------- ---------------------- 20.6/45.8 MB 7.7 MB/s eta 0:00:04\n",
      "   ------------------ --------------------- 21.1/45.8 MB 7.7 MB/s eta 0:00:04\n",
      "   ------------------ --------------------- 21.6/45.8 MB 7.8 MB/s eta 0:00:04\n",
      "   ------------------- -------------------- 22.0/45.8 MB 7.9 MB/s eta 0:00:04\n",
      "   ------------------- -------------------- 22.4/45.8 MB 7.9 MB/s eta 0:00:03\n",
      "   ------------------- -------------------- 22.8/45.8 MB 8.0 MB/s eta 0:00:03\n",
      "   -------------------- ------------------- 23.1/45.8 MB 7.9 MB/s eta 0:00:03\n",
      "   -------------------- ------------------- 23.6/45.8 MB 7.9 MB/s eta 0:00:03\n",
      "   -------------------- ------------------- 23.7/45.8 MB 7.8 MB/s eta 0:00:03\n",
      "   --------------------- ------------------ 24.2/45.8 MB 7.9 MB/s eta 0:00:03\n",
      "   --------------------- ------------------ 24.5/45.8 MB 7.7 MB/s eta 0:00:03\n",
      "   --------------------- ------------------ 24.8/45.8 MB 7.8 MB/s eta 0:00:03\n",
      "   ---------------------- ----------------- 25.2/45.8 MB 7.7 MB/s eta 0:00:03\n",
      "   ---------------------- ----------------- 25.4/45.8 MB 7.8 MB/s eta 0:00:03\n",
      "   ---------------------- ----------------- 25.8/45.8 MB 7.7 MB/s eta 0:00:03\n",
      "   ---------------------- ----------------- 26.2/45.8 MB 7.6 MB/s eta 0:00:03\n",
      "   ----------------------- ---------------- 26.6/45.8 MB 7.5 MB/s eta 0:00:03\n",
      "   ----------------------- ---------------- 26.9/45.8 MB 7.8 MB/s eta 0:00:03\n",
      "   ----------------------- ---------------- 27.3/45.8 MB 8.2 MB/s eta 0:00:03\n",
      "   ------------------------ --------------- 27.8/45.8 MB 8.4 MB/s eta 0:00:03\n",
      "   ------------------------ --------------- 28.1/45.8 MB 8.4 MB/s eta 0:00:03\n",
      "   ------------------------- -------------- 28.7/45.8 MB 8.6 MB/s eta 0:00:02\n",
      "   ------------------------- -------------- 29.1/45.8 MB 8.7 MB/s eta 0:00:02\n",
      "   ------------------------- -------------- 29.5/45.8 MB 8.8 MB/s eta 0:00:02\n",
      "   -------------------------- ------------- 30.0/45.8 MB 9.0 MB/s eta 0:00:02\n",
      "   -------------------------- ------------- 30.5/45.8 MB 9.1 MB/s eta 0:00:02\n",
      "   -------------------------- ------------- 30.9/45.8 MB 9.2 MB/s eta 0:00:02\n",
      "   --------------------------- ------------ 31.1/45.8 MB 9.0 MB/s eta 0:00:02\n",
      "   --------------------------- ------------ 31.4/45.8 MB 9.1 MB/s eta 0:00:02\n",
      "   --------------------------- ------------ 31.8/45.8 MB 9.1 MB/s eta 0:00:02\n",
      "   --------------------------- ------------ 32.0/45.8 MB 9.0 MB/s eta 0:00:02\n",
      "   ---------------------------- ----------- 32.6/45.8 MB 9.0 MB/s eta 0:00:02\n",
      "   ---------------------------- ----------- 33.0/45.8 MB 8.8 MB/s eta 0:00:02\n",
      "   ----------------------------- ---------- 33.5/45.8 MB 9.0 MB/s eta 0:00:02\n",
      "   ----------------------------- ---------- 33.9/45.8 MB 9.0 MB/s eta 0:00:02\n",
      "   ----------------------------- ---------- 34.2/45.8 MB 9.0 MB/s eta 0:00:02\n",
      "   ------------------------------ --------- 34.7/45.8 MB 9.2 MB/s eta 0:00:02\n",
      "   ------------------------------ --------- 34.9/45.8 MB 9.2 MB/s eta 0:00:02\n",
      "   ------------------------------ --------- 35.4/45.8 MB 9.1 MB/s eta 0:00:02\n",
      "   ------------------------------- -------- 35.7/45.8 MB 9.2 MB/s eta 0:00:02\n",
      "   ------------------------------- -------- 36.0/45.8 MB 9.1 MB/s eta 0:00:02\n",
      "   ------------------------------- -------- 36.5/45.8 MB 9.2 MB/s eta 0:00:02\n",
      "   -------------------------------- ------- 37.0/45.8 MB 9.4 MB/s eta 0:00:01\n",
      "   -------------------------------- ------- 37.4/45.8 MB 9.4 MB/s eta 0:00:01\n",
      "   --------------------------------- ------ 38.0/45.8 MB 9.4 MB/s eta 0:00:01\n",
      "   --------------------------------- ------ 38.4/45.8 MB 9.5 MB/s eta 0:00:01\n",
      "   --------------------------------- ------ 38.6/45.8 MB 9.4 MB/s eta 0:00:01\n",
      "   ---------------------------------- ----- 39.0/45.8 MB 9.1 MB/s eta 0:00:01\n",
      "   ---------------------------------- ----- 39.4/45.8 MB 9.0 MB/s eta 0:00:01\n",
      "   ---------------------------------- ----- 39.8/45.8 MB 9.0 MB/s eta 0:00:01\n",
      "   ----------------------------------- ---- 40.1/45.8 MB 8.8 MB/s eta 0:00:01\n",
      "   ----------------------------------- ---- 40.4/45.8 MB 8.7 MB/s eta 0:00:01\n",
      "   ----------------------------------- ---- 40.6/45.8 MB 8.5 MB/s eta 0:00:01\n",
      "   ----------------------------------- ---- 40.9/45.8 MB 8.5 MB/s eta 0:00:01\n",
      "   ----------------------------------- ---- 41.2/45.8 MB 8.6 MB/s eta 0:00:01\n",
      "   ------------------------------------ --- 41.6/45.8 MB 8.5 MB/s eta 0:00:01\n",
      "   ------------------------------------ --- 41.7/45.8 MB 8.5 MB/s eta 0:00:01\n",
      "   ------------------------------------ --- 42.2/45.8 MB 8.4 MB/s eta 0:00:01\n",
      "   ------------------------------------- -- 42.6/45.8 MB 8.5 MB/s eta 0:00:01\n",
      "   ------------------------------------- -- 42.7/45.8 MB 8.2 MB/s eta 0:00:01\n",
      "   ------------------------------------- -- 43.2/45.8 MB 8.2 MB/s eta 0:00:01\n",
      "   -------------------------------------- - 43.6/45.8 MB 8.2 MB/s eta 0:00:01\n",
      "   -------------------------------------- - 44.0/45.8 MB 8.2 MB/s eta 0:00:01\n",
      "   -------------------------------------- - 44.2/45.8 MB 8.1 MB/s eta 0:00:01\n",
      "   ---------------------------------------  44.8/45.8 MB 8.1 MB/s eta 0:00:01\n",
      "   ---------------------------------------  45.1/45.8 MB 8.1 MB/s eta 0:00:01\n",
      "   ---------------------------------------  45.5/45.8 MB 8.1 MB/s eta 0:00:01\n",
      "   ---------------------------------------  45.8/45.8 MB 8.2 MB/s eta 0:00:01\n",
      "   ---------------------------------------  45.8/45.8 MB 8.2 MB/s eta 0:00:01\n",
      "   ---------------------------------------  45.8/45.8 MB 8.2 MB/s eta 0:00:01\n",
      "   ---------------------------------------- 45.8/45.8 MB 7.6 MB/s eta 0:00:00\n",
      "Downloading statsmodels-0.14.1-cp312-cp312-win_amd64.whl (9.8 MB)\n",
      "   ---------------------------------------- 0.0/9.8 MB ? eta -:--:--\n",
      "   -- ------------------------------------- 0.5/9.8 MB 30.7 MB/s eta 0:00:01\n",
      "   --- ------------------------------------ 0.8/9.8 MB 12.8 MB/s eta 0:00:01\n",
      "   ----- ---------------------------------- 1.3/9.8 MB 11.4 MB/s eta 0:00:01\n",
      "   ------ --------------------------------- 1.6/9.8 MB 10.0 MB/s eta 0:00:01\n",
      "   ------- -------------------------------- 2.0/9.8 MB 10.3 MB/s eta 0:00:01\n",
      "   --------- ------------------------------ 2.3/9.8 MB 9.8 MB/s eta 0:00:01\n",
      "   ----------- ---------------------------- 2.7/9.8 MB 9.6 MB/s eta 0:00:01\n",
      "   ------------ --------------------------- 3.1/9.8 MB 9.8 MB/s eta 0:00:01\n",
      "   -------------- ------------------------- 3.4/9.8 MB 9.5 MB/s eta 0:00:01\n",
      "   --------------- ------------------------ 3.8/9.8 MB 9.7 MB/s eta 0:00:01\n",
      "   ----------------- ---------------------- 4.2/9.8 MB 9.6 MB/s eta 0:00:01\n",
      "   ------------------ --------------------- 4.5/9.8 MB 9.2 MB/s eta 0:00:01\n",
      "   -------------------- ------------------- 4.9/9.8 MB 9.5 MB/s eta 0:00:01\n",
      "   --------------------- ------------------ 5.2/9.8 MB 9.3 MB/s eta 0:00:01\n",
      "   ----------------------- ---------------- 5.7/9.8 MB 9.4 MB/s eta 0:00:01\n",
      "   ------------------------ --------------- 6.0/9.8 MB 9.4 MB/s eta 0:00:01\n",
      "   -------------------------- ------------- 6.5/9.8 MB 9.4 MB/s eta 0:00:01\n",
      "   ---------------------------- ----------- 6.9/9.8 MB 9.4 MB/s eta 0:00:01\n",
      "   ----------------------------- ---------- 7.3/9.8 MB 9.3 MB/s eta 0:00:01\n",
      "   ------------------------------ --------- 7.5/9.8 MB 9.2 MB/s eta 0:00:01\n",
      "   --------------------------------- ------ 8.1/9.8 MB 9.3 MB/s eta 0:00:01\n",
      "   ---------------------------------- ----- 8.4/9.8 MB 9.3 MB/s eta 0:00:01\n",
      "   ------------------------------------ --- 8.9/9.8 MB 9.3 MB/s eta 0:00:01\n",
      "   ------------------------------------- -- 9.3/9.8 MB 9.4 MB/s eta 0:00:01\n",
      "   ---------------------------------------  9.7/9.8 MB 9.4 MB/s eta 0:00:01\n",
      "   ---------------------------------------  9.8/9.8 MB 9.4 MB/s eta 0:00:01\n",
      "   ---------------------------------------- 9.8/9.8 MB 8.8 MB/s eta 0:00:00\n",
      "Downloading joblib-1.3.2-py3-none-any.whl (302 kB)\n",
      "   ---------------------------------------- 0.0/302.2 kB ? eta -:--:--\n",
      "   ---------------------------------------- 302.2/302.2 kB 9.4 MB/s eta 0:00:00\n",
      "Downloading pytz-2024.1-py2.py3-none-any.whl (505 kB)\n",
      "   ---------------------------------------- 0.0/505.5 kB ? eta -:--:--\n",
      "   --------------------------------- ----- 440.3/505.5 kB 13.4 MB/s eta 0:00:01\n",
      "   --------------------------------------- 505.5/505.5 kB 15.5 MB/s eta 0:00:00\n",
      "Downloading threadpoolctl-3.3.0-py3-none-any.whl (17 kB)\n",
      "Downloading tzdata-2024.1-py2.py3-none-any.whl (345 kB)\n",
      "   ---------------------------------------- 0.0/345.4 kB ? eta -:--:--\n",
      "   ----------------------------- ---------- 256.0/345.4 kB 7.9 MB/s eta 0:00:01\n",
      "   ---------------------------------------- 345.4/345.4 kB 5.4 MB/s eta 0:00:00\n",
      "Installing collected packages: pytz, tzdata, threadpoolctl, numpy, joblib, scipy, patsy, pandas, statsmodels, scikit-learn, category_encoders\n",
      "Successfully installed category_encoders-2.6.3 joblib-1.3.2 numpy-1.26.4 pandas-2.2.1 patsy-0.5.6 pytz-2024.1 scikit-learn-1.4.1.post1 scipy-1.12.0 statsmodels-0.14.1 threadpoolctl-3.3.0 tzdata-2024.1\n"
     ]
    },
    {
     "name": "stderr",
     "output_type": "stream",
     "text": [
      "  WARNING: The script f2py.exe is installed in 'C:\\Users\\Devendra\\AppData\\Local\\Packages\\PythonSoftwareFoundation.Python.3.12_qbz5n2kfra8p0\\LocalCache\\local-packages\\Python312\\Scripts' which is not on PATH.\n",
      "  Consider adding this directory to PATH or, if you prefer to suppress this warning, use --no-warn-script-location.\n"
     ]
    }
   ],
   "source": [
    "!pip install category_encoders"
   ]
  },
  {
   "cell_type": "code",
   "execution_count": 23,
   "metadata": {
    "colab": {
     "base_uri": "https://localhost:8080/",
     "height": 349
    },
    "id": "0YX8EgnHPeCy",
    "outputId": "a1b98bd6-e399-4ab0-8aa1-3f6c97896cd8"
   },
   "outputs": [],
   "source": [
    "from sklearn.preprocessing import LabelEncoder "
   ]
  },
  {
   "cell_type": "code",
   "execution_count": 25,
   "metadata": {
    "id": "y2JJhwRTPeCy"
   },
   "outputs": [
    {
     "ename": "ValueError",
     "evalue": "y should be a 1d array, got an array of shape (1209, 6) instead.",
     "output_type": "error",
     "traceback": [
      "\u001b[1;31m---------------------------------------------------------------------------\u001b[0m",
      "\u001b[1;31mValueError\u001b[0m                                Traceback (most recent call last)",
      "Cell \u001b[1;32mIn[25], line 6\u001b[0m\n\u001b[0;32m      1\u001b[0m \u001b[38;5;66;03m# encode variables with ordinal encoding\u001b[39;00m\n\u001b[0;32m      3\u001b[0m encoder \u001b[38;5;241m=\u001b[39m LabelEncoder()\n\u001b[1;32m----> 6\u001b[0m X_train \u001b[38;5;241m=\u001b[39m \u001b[43mencoder\u001b[49m\u001b[38;5;241;43m.\u001b[39;49m\u001b[43mfit_transform\u001b[49m\u001b[43m(\u001b[49m\u001b[43mX_train\u001b[49m\u001b[43m)\u001b[49m\n\u001b[0;32m      8\u001b[0m X_test \u001b[38;5;241m=\u001b[39m encoder\u001b[38;5;241m.\u001b[39mtransform(X_test)\n",
      "File \u001b[1;32m~\\AppData\\Local\\Programs\\Python\\Python312\\Lib\\site-packages\\sklearn\\preprocessing\\_label.py:114\u001b[0m, in \u001b[0;36mLabelEncoder.fit_transform\u001b[1;34m(self, y)\u001b[0m\n\u001b[0;32m    101\u001b[0m \u001b[38;5;28;01mdef\u001b[39;00m \u001b[38;5;21mfit_transform\u001b[39m(\u001b[38;5;28mself\u001b[39m, y):\n\u001b[0;32m    102\u001b[0m \u001b[38;5;250m    \u001b[39m\u001b[38;5;124;03m\"\"\"Fit label encoder and return encoded labels.\u001b[39;00m\n\u001b[0;32m    103\u001b[0m \n\u001b[0;32m    104\u001b[0m \u001b[38;5;124;03m    Parameters\u001b[39;00m\n\u001b[1;32m   (...)\u001b[0m\n\u001b[0;32m    112\u001b[0m \u001b[38;5;124;03m        Encoded labels.\u001b[39;00m\n\u001b[0;32m    113\u001b[0m \u001b[38;5;124;03m    \"\"\"\u001b[39;00m\n\u001b[1;32m--> 114\u001b[0m     y \u001b[38;5;241m=\u001b[39m \u001b[43mcolumn_or_1d\u001b[49m\u001b[43m(\u001b[49m\u001b[43my\u001b[49m\u001b[43m,\u001b[49m\u001b[43m \u001b[49m\u001b[43mwarn\u001b[49m\u001b[38;5;241;43m=\u001b[39;49m\u001b[38;5;28;43;01mTrue\u001b[39;49;00m\u001b[43m)\u001b[49m\n\u001b[0;32m    115\u001b[0m     \u001b[38;5;28mself\u001b[39m\u001b[38;5;241m.\u001b[39mclasses_, y \u001b[38;5;241m=\u001b[39m _unique(y, return_inverse\u001b[38;5;241m=\u001b[39m\u001b[38;5;28;01mTrue\u001b[39;00m)\n\u001b[0;32m    116\u001b[0m     \u001b[38;5;28;01mreturn\u001b[39;00m y\n",
      "File \u001b[1;32m~\\AppData\\Local\\Programs\\Python\\Python312\\Lib\\site-packages\\sklearn\\utils\\validation.py:1244\u001b[0m, in \u001b[0;36mcolumn_or_1d\u001b[1;34m(y, dtype, warn)\u001b[0m\n\u001b[0;32m   1233\u001b[0m         warnings\u001b[38;5;241m.\u001b[39mwarn(\n\u001b[0;32m   1234\u001b[0m             (\n\u001b[0;32m   1235\u001b[0m                 \u001b[38;5;124m\"\u001b[39m\u001b[38;5;124mA column-vector y was passed when a 1d array was\u001b[39m\u001b[38;5;124m\"\u001b[39m\n\u001b[1;32m   (...)\u001b[0m\n\u001b[0;32m   1240\u001b[0m             stacklevel\u001b[38;5;241m=\u001b[39m\u001b[38;5;241m2\u001b[39m,\n\u001b[0;32m   1241\u001b[0m         )\n\u001b[0;32m   1242\u001b[0m     \u001b[38;5;28;01mreturn\u001b[39;00m _asarray_with_order(xp\u001b[38;5;241m.\u001b[39mreshape(y, (\u001b[38;5;241m-\u001b[39m\u001b[38;5;241m1\u001b[39m,)), order\u001b[38;5;241m=\u001b[39m\u001b[38;5;124m\"\u001b[39m\u001b[38;5;124mC\u001b[39m\u001b[38;5;124m\"\u001b[39m, xp\u001b[38;5;241m=\u001b[39mxp)\n\u001b[1;32m-> 1244\u001b[0m \u001b[38;5;28;01mraise\u001b[39;00m \u001b[38;5;167;01mValueError\u001b[39;00m(\n\u001b[0;32m   1245\u001b[0m     \u001b[38;5;124m\"\u001b[39m\u001b[38;5;124my should be a 1d array, got an array of shape \u001b[39m\u001b[38;5;132;01m{}\u001b[39;00m\u001b[38;5;124m instead.\u001b[39m\u001b[38;5;124m\"\u001b[39m\u001b[38;5;241m.\u001b[39mformat(shape)\n\u001b[0;32m   1246\u001b[0m )\n",
      "\u001b[1;31mValueError\u001b[0m: y should be a 1d array, got an array of shape (1209, 6) instead."
     ]
    }
   ],
   "source": [
    "# encode variables with ordinal encoding\n",
    "\n",
    "encoder = LabelEncoder()\n",
    "\n",
    "\n",
    "X_train = encoder.fit_transform(X_train)\n",
    "\n",
    "X_test = encoder.transform(X_test)"
   ]
  },
  {
   "cell_type": "code",
   "execution_count": null,
   "metadata": {
    "id": "C_bKnD1EPeCz"
   },
   "outputs": [],
   "source": [
    "X_train.head()"
   ]
  },
  {
   "cell_type": "code",
   "execution_count": null,
   "metadata": {
    "id": "3IUv6AtaPeCz"
   },
   "outputs": [],
   "source": [
    "X_test.head()"
   ]
  },
  {
   "cell_type": "code",
   "execution_count": null,
   "metadata": {
    "id": "ShDP4qC3PeC1"
   },
   "outputs": [],
   "source": [
    "# import DecisionTreeClassifier\n",
    "\n",
    "from sklearn.tree import DecisionTreeClassifier\n"
   ]
  },
  {
   "cell_type": "code",
   "execution_count": null,
   "metadata": {
    "id": "zPbHxSdePeC1"
   },
   "outputs": [],
   "source": [
    "# instantiate the DecisionTreeClassifier model with criterion gini index\n",
    "\n",
    "clf_gini = DecisionTreeClassifier(criterion='gini', max_depth=3, random_state=0)\n",
    "\n",
    "\n",
    "# fit the model\n",
    "clf_gini.fit(X_train, y_train)\n"
   ]
  },
  {
   "cell_type": "code",
   "execution_count": null,
   "metadata": {
    "id": "5FsQ-hQGPeC1"
   },
   "outputs": [],
   "source": [
    "y_pred_gini = clf_gini.predict(X_test)\n"
   ]
  },
  {
   "cell_type": "code",
   "execution_count": null,
   "metadata": {
    "id": "GfdJ287nPeC2"
   },
   "outputs": [],
   "source": [
    "from sklearn.metrics import accuracy_score\n",
    "\n",
    "print('Model accuracy score with criterion gini index: {0:0.4f}'. format(accuracy_score(y_test, y_pred_gini)))"
   ]
  },
  {
   "cell_type": "code",
   "execution_count": null,
   "metadata": {
    "id": "ELiJPuG9PeC3"
   },
   "outputs": [],
   "source": [
    "y_pred_train_gini = clf_gini.predict(X_train)\n",
    "\n",
    "y_pred_train_gini"
   ]
  },
  {
   "cell_type": "code",
   "execution_count": null,
   "metadata": {
    "id": "-wH64O_PPeC3"
   },
   "outputs": [],
   "source": [
    "print('Training-set accuracy score: {0:0.4f}'. format(accuracy_score(y_train, y_pred_train_gini)))"
   ]
  },
  {
   "cell_type": "code",
   "execution_count": null,
   "metadata": {
    "id": "UL-gBDcPPeC4"
   },
   "outputs": [],
   "source": [
    "# print the scores on training and test set\n",
    "\n",
    "print('Training set score: {:.4f}'.format(clf_gini.score(X_train, y_train)))\n",
    "\n",
    "print('Test set score: {:.4f}'.format(clf_gini.score(X_test, y_test)))"
   ]
  },
  {
   "cell_type": "markdown",
   "metadata": {
    "id": "13xW9zhMPeC4"
   },
   "source": [
    "Here, the training-set accuracy score is 0.7865 while the test-set accuracy to be 0.8021. These two values are quite comparable. So, there is no sign of overfitting.\n"
   ]
  },
  {
   "cell_type": "markdown",
   "metadata": {
    "id": "R-RBP1x7PeC5"
   },
   "source": [
    "### Visualize decision-trees"
   ]
  },
  {
   "cell_type": "code",
   "execution_count": null,
   "metadata": {
    "id": "QTBXSpsVPeC5"
   },
   "outputs": [],
   "source": [
    "plt.figure(figsize=(12,8))\n",
    "\n",
    "from sklearn import tree\n",
    "\n",
    "tree.plot_tree(clf_gini.fit(X_train, y_train))"
   ]
  },
  {
   "cell_type": "code",
   "execution_count": null,
   "metadata": {
    "id": "bBoctpGtPeC5"
   },
   "outputs": [],
   "source": [
    "import graphviz\n",
    "dot_data = tree.export_graphviz(clf_gini, out_file=None,\n",
    "                              feature_names=X_train.columns,\n",
    "                              class_names=y_train,\n",
    "                              filled=True, rounded=True,\n",
    "                              special_characters=True)\n",
    "\n",
    "graph = graphviz.Source(dot_data)\n",
    "\n",
    "graph"
   ]
  },
  {
   "cell_type": "code",
   "execution_count": null,
   "metadata": {
    "id": "HzAzFh6NPeC6"
   },
   "outputs": [],
   "source": [
    "# instantiate the DecisionTreeClassifier model with criterion entropy\n",
    "\n",
    "clf_en = DecisionTreeClassifier(criterion='entropy', max_depth=3, random_state=0)\n",
    "\n",
    "\n",
    "# fit the model\n",
    "clf_en.fit(X_train, y_train)"
   ]
  },
  {
   "cell_type": "code",
   "execution_count": null,
   "metadata": {
    "id": "RDJAQSEAPeC7"
   },
   "outputs": [],
   "source": [
    "y_pred_en = clf_en.predict(X_test)"
   ]
  },
  {
   "cell_type": "code",
   "execution_count": null,
   "metadata": {
    "id": "jRD7DoDrPeC8"
   },
   "outputs": [],
   "source": [
    "from sklearn.metrics import accuracy_score\n",
    "\n",
    "print('Model accuracy score with criterion entropy: {0:0.4f}'. format(accuracy_score(y_test, y_pred_en)))"
   ]
  },
  {
   "cell_type": "code",
   "execution_count": null,
   "metadata": {
    "id": "wfMKNGwCPeC8"
   },
   "outputs": [],
   "source": [
    "y_pred_train_en = clf_en.predict(X_train)\n",
    "\n",
    "y_pred_train_en"
   ]
  },
  {
   "cell_type": "code",
   "execution_count": null,
   "metadata": {
    "id": "jNiUSDN_PeC8"
   },
   "outputs": [],
   "source": [
    "print('Training-set accuracy score: {0:0.4f}'. format(accuracy_score(y_train, y_pred_train_en)))"
   ]
  },
  {
   "cell_type": "code",
   "execution_count": null,
   "metadata": {
    "id": "TB9ISKFAPeC9"
   },
   "outputs": [],
   "source": [
    "# print the scores on training and test set\n",
    "\n",
    "print('Training set score: {:.4f}'.format(clf_en.score(X_train, y_train)))\n",
    "\n",
    "print('Test set score: {:.4f}'.format(clf_en.score(X_test, y_test)))"
   ]
  },
  {
   "cell_type": "markdown",
   "metadata": {
    "id": "i5fE7mumPeC-"
   },
   "source": [
    "### Visualize decision-trees"
   ]
  },
  {
   "cell_type": "code",
   "execution_count": null,
   "metadata": {
    "id": "5Z83C3WqPeC-"
   },
   "outputs": [],
   "source": [
    "plt.figure(figsize=(12,8))\n",
    "\n",
    "from sklearn import tree\n",
    "\n",
    "tree.plot_tree(clf_en.fit(X_train, y_train))"
   ]
  },
  {
   "cell_type": "code",
   "execution_count": null,
   "metadata": {
    "id": "wGDWW2d9PeC_"
   },
   "outputs": [],
   "source": [
    "import graphviz\n",
    "dot_data = tree.export_graphviz(clf_en, out_file=None,\n",
    "                              feature_names=X_train.columns,\n",
    "                              class_names=y_train,\n",
    "                              filled=True, rounded=True,\n",
    "                              special_characters=True)\n",
    "\n",
    "graph = graphviz.Source(dot_data)\n",
    "\n",
    "graph"
   ]
  },
  {
   "cell_type": "code",
   "execution_count": null,
   "metadata": {
    "id": "jDEr1hm2PeC_"
   },
   "outputs": [],
   "source": [
    "# Print the Confusion Matrix and slice it into four pieces\n",
    "\n",
    "from sklearn.metrics import confusion_matrix\n",
    "\n",
    "cm = confusion_matrix(y_test, y_pred_en)\n",
    "\n",
    "print('Confusion matrix\\n\\n', cm)\n",
    "\n"
   ]
  },
  {
   "cell_type": "code",
   "execution_count": null,
   "metadata": {
    "id": "0TpxeoGYPeDA",
    "scrolled": true
   },
   "outputs": [],
   "source": [
    "from sklearn.metrics import classification_report\n",
    "\n",
    "print(classification_report(y_test, y_pred_en))"
   ]
  }
 ],
 "metadata": {
  "accelerator": "TPU",
  "colab": {
   "provenance": []
  },
  "kernelspec": {
   "display_name": "Python 3 (ipykernel)",
   "language": "python",
   "name": "python3"
  },
  "language_info": {
   "codemirror_mode": {
    "name": "ipython",
    "version": 3
   },
   "file_extension": ".py",
   "mimetype": "text/x-python",
   "name": "python",
   "nbconvert_exporter": "python",
   "pygments_lexer": "ipython3",
   "version": "3.12.1"
  }
 },
 "nbformat": 4,
 "nbformat_minor": 4
}
